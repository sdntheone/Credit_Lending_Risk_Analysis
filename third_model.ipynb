{
 "cells": [
  {
   "cell_type": "code",
   "execution_count": 1,
   "id": "64906143-a183-47a2-8f80-746c3057f381",
   "metadata": {},
   "outputs": [],
   "source": [
    "import pandas as pd\n",
    "import numpy as np\n",
    "from sklearn.compose import ColumnTransformer\n",
    "from sklearn.preprocessing import OneHotEncoder, OrdinalEncoder, LabelEncoder\n",
    "from sklearn.impute import SimpleImputer\n",
    "from sklearn.pipeline import Pipeline\n",
    "from imblearn.pipeline import Pipeline as ImbPipeline\n",
    "from imblearn.over_sampling import SMOTENC\n",
    "from sklearn.feature_selection import SelectKBest, mutual_info_classif\n",
    "from sklearn.model_selection import train_test_split, StratifiedKFold, cross_val_score\n",
    "from sklearn.metrics import accuracy_score, classification_report\n",
    "from xgboost import XGBClassifier\n",
    "import joblib"
   ]
  },
  {
   "cell_type": "code",
   "execution_count": 2,
   "id": "ed667e0c-16cd-46e1-95e4-3d509034e376",
   "metadata": {},
   "outputs": [
    {
     "data": {
      "text/html": [
       "<div>\n",
       "<style scoped>\n",
       "    .dataframe tbody tr th:only-of-type {\n",
       "        vertical-align: middle;\n",
       "    }\n",
       "\n",
       "    .dataframe tbody tr th {\n",
       "        vertical-align: top;\n",
       "    }\n",
       "\n",
       "    .dataframe thead th {\n",
       "        text-align: right;\n",
       "    }\n",
       "</style>\n",
       "<table border=\"1\" class=\"dataframe\">\n",
       "  <thead>\n",
       "    <tr style=\"text-align: right;\">\n",
       "      <th></th>\n",
       "      <th>Total_TL_opened_L6M</th>\n",
       "      <th>Tot_TL_closed_L6M</th>\n",
       "      <th>pct_tl_closed_L6M</th>\n",
       "      <th>pct_closed_tl</th>\n",
       "      <th>pct_tl_open_L12M</th>\n",
       "      <th>pct_tl_closed_L12M</th>\n",
       "      <th>Tot_Missed_Pmnt</th>\n",
       "      <th>CC_TL</th>\n",
       "      <th>Consumer_TL</th>\n",
       "      <th>Gold_TL</th>\n",
       "      <th>...</th>\n",
       "      <th>pct_PL_enq_L6m_of_ever</th>\n",
       "      <th>pct_CC_enq_L6m_of_ever</th>\n",
       "      <th>HL_Flag</th>\n",
       "      <th>GL_Flag</th>\n",
       "      <th>MARITALSTATUS</th>\n",
       "      <th>EDUCATION</th>\n",
       "      <th>GENDER</th>\n",
       "      <th>last_prod_enq2</th>\n",
       "      <th>first_prod_enq2</th>\n",
       "      <th>Approved_Flag</th>\n",
       "    </tr>\n",
       "  </thead>\n",
       "  <tbody>\n",
       "    <tr>\n",
       "      <th>0</th>\n",
       "      <td>0</td>\n",
       "      <td>0</td>\n",
       "      <td>0.0</td>\n",
       "      <td>0.800</td>\n",
       "      <td>0.00</td>\n",
       "      <td>0.0</td>\n",
       "      <td>0</td>\n",
       "      <td>0</td>\n",
       "      <td>0</td>\n",
       "      <td>1</td>\n",
       "      <td>...</td>\n",
       "      <td>0.0</td>\n",
       "      <td>0.0</td>\n",
       "      <td>1</td>\n",
       "      <td>0</td>\n",
       "      <td>Married</td>\n",
       "      <td>12TH</td>\n",
       "      <td>M</td>\n",
       "      <td>PL</td>\n",
       "      <td>PL</td>\n",
       "      <td>P2</td>\n",
       "    </tr>\n",
       "    <tr>\n",
       "      <th>1</th>\n",
       "      <td>0</td>\n",
       "      <td>0</td>\n",
       "      <td>0.0</td>\n",
       "      <td>0.000</td>\n",
       "      <td>1.00</td>\n",
       "      <td>0.0</td>\n",
       "      <td>0</td>\n",
       "      <td>0</td>\n",
       "      <td>1</td>\n",
       "      <td>0</td>\n",
       "      <td>...</td>\n",
       "      <td>0.0</td>\n",
       "      <td>0.0</td>\n",
       "      <td>0</td>\n",
       "      <td>0</td>\n",
       "      <td>Single</td>\n",
       "      <td>GRADUATE</td>\n",
       "      <td>F</td>\n",
       "      <td>ConsumerLoan</td>\n",
       "      <td>ConsumerLoan</td>\n",
       "      <td>P2</td>\n",
       "    </tr>\n",
       "    <tr>\n",
       "      <th>2</th>\n",
       "      <td>1</td>\n",
       "      <td>0</td>\n",
       "      <td>0.0</td>\n",
       "      <td>0.000</td>\n",
       "      <td>0.25</td>\n",
       "      <td>0.0</td>\n",
       "      <td>1</td>\n",
       "      <td>0</td>\n",
       "      <td>6</td>\n",
       "      <td>1</td>\n",
       "      <td>...</td>\n",
       "      <td>0.0</td>\n",
       "      <td>0.0</td>\n",
       "      <td>1</td>\n",
       "      <td>0</td>\n",
       "      <td>Married</td>\n",
       "      <td>SSC</td>\n",
       "      <td>M</td>\n",
       "      <td>ConsumerLoan</td>\n",
       "      <td>others</td>\n",
       "      <td>P2</td>\n",
       "    </tr>\n",
       "    <tr>\n",
       "      <th>3</th>\n",
       "      <td>1</td>\n",
       "      <td>0</td>\n",
       "      <td>0.0</td>\n",
       "      <td>0.000</td>\n",
       "      <td>1.00</td>\n",
       "      <td>0.0</td>\n",
       "      <td>1</td>\n",
       "      <td>0</td>\n",
       "      <td>0</td>\n",
       "      <td>0</td>\n",
       "      <td>...</td>\n",
       "      <td>0.0</td>\n",
       "      <td>0.0</td>\n",
       "      <td>0</td>\n",
       "      <td>0</td>\n",
       "      <td>Married</td>\n",
       "      <td>SSC</td>\n",
       "      <td>M</td>\n",
       "      <td>others</td>\n",
       "      <td>others</td>\n",
       "      <td>P2</td>\n",
       "    </tr>\n",
       "    <tr>\n",
       "      <th>4</th>\n",
       "      <td>0</td>\n",
       "      <td>0</td>\n",
       "      <td>0.0</td>\n",
       "      <td>0.667</td>\n",
       "      <td>0.00</td>\n",
       "      <td>0.0</td>\n",
       "      <td>0</td>\n",
       "      <td>0</td>\n",
       "      <td>0</td>\n",
       "      <td>0</td>\n",
       "      <td>...</td>\n",
       "      <td>0.0</td>\n",
       "      <td>0.0</td>\n",
       "      <td>0</td>\n",
       "      <td>0</td>\n",
       "      <td>Married</td>\n",
       "      <td>POST-GRADUATE</td>\n",
       "      <td>M</td>\n",
       "      <td>AL</td>\n",
       "      <td>AL</td>\n",
       "      <td>P1</td>\n",
       "    </tr>\n",
       "  </tbody>\n",
       "</table>\n",
       "<p>5 rows × 43 columns</p>\n",
       "</div>"
      ],
      "text/plain": [
       "   Total_TL_opened_L6M  Tot_TL_closed_L6M  pct_tl_closed_L6M  pct_closed_tl  \\\n",
       "0                    0                  0                0.0          0.800   \n",
       "1                    0                  0                0.0          0.000   \n",
       "2                    1                  0                0.0          0.000   \n",
       "3                    1                  0                0.0          0.000   \n",
       "4                    0                  0                0.0          0.667   \n",
       "\n",
       "   pct_tl_open_L12M  pct_tl_closed_L12M  Tot_Missed_Pmnt  CC_TL  Consumer_TL  \\\n",
       "0              0.00                 0.0                0      0            0   \n",
       "1              1.00                 0.0                0      0            1   \n",
       "2              0.25                 0.0                1      0            6   \n",
       "3              1.00                 0.0                1      0            0   \n",
       "4              0.00                 0.0                0      0            0   \n",
       "\n",
       "   Gold_TL  ...  pct_PL_enq_L6m_of_ever  pct_CC_enq_L6m_of_ever  HL_Flag  \\\n",
       "0        1  ...                     0.0                     0.0        1   \n",
       "1        0  ...                     0.0                     0.0        0   \n",
       "2        1  ...                     0.0                     0.0        1   \n",
       "3        0  ...                     0.0                     0.0        0   \n",
       "4        0  ...                     0.0                     0.0        0   \n",
       "\n",
       "   GL_Flag  MARITALSTATUS      EDUCATION  GENDER  last_prod_enq2  \\\n",
       "0        0        Married           12TH       M              PL   \n",
       "1        0         Single       GRADUATE       F    ConsumerLoan   \n",
       "2        0        Married            SSC       M    ConsumerLoan   \n",
       "3        0        Married            SSC       M          others   \n",
       "4        0        Married  POST-GRADUATE       M              AL   \n",
       "\n",
       "   first_prod_enq2  Approved_Flag  \n",
       "0               PL             P2  \n",
       "1     ConsumerLoan             P2  \n",
       "2           others             P2  \n",
       "3           others             P2  \n",
       "4               AL             P1  \n",
       "\n",
       "[5 rows x 43 columns]"
      ]
     },
     "execution_count": 2,
     "metadata": {},
     "output_type": "execute_result"
    }
   ],
   "source": [
    "# 1. Load data\n",
    "df = pd.read_csv('new_file.csv')\n",
    "df.head()"
   ]
  },
  {
   "cell_type": "code",
   "execution_count": 3,
   "id": "ff10829c-c373-4afb-8a0c-e7ef542dd6f0",
   "metadata": {},
   "outputs": [],
   "source": [
    "# 2. Handle missing values\n",
    "# Replace known missing indicators with np.nan\n",
    "df.replace([-99999, 'None', 'none', 'NaN', 'nan', ''], np.nan, inplace=True)"
   ]
  },
  {
   "cell_type": "code",
   "execution_count": 4,
   "id": "28d46529-606d-46e3-b3f0-4e6c640dbcb6",
   "metadata": {},
   "outputs": [],
   "source": [
    "# Drop rows where target is missing\n",
    "df.dropna(subset=['Approved_Flag'], inplace=True)"
   ]
  },
  {
   "cell_type": "code",
   "execution_count": 5,
   "id": "bfa034bd-2b0b-442f-962e-68e4d66194eb",
   "metadata": {},
   "outputs": [],
   "source": [
    "# Fill or drop remaining nulls (optional strategy: drop rows with >50% missing)\n",
    "df = df[df.isnull().mean(axis=1) < 0.5]"
   ]
  },
  {
   "cell_type": "code",
   "execution_count": 6,
   "id": "b073d5b8-9d8d-45a5-826d-bafd545ba841",
   "metadata": {},
   "outputs": [],
   "source": [
    "# 3. Define features and target\n",
    "X = df.drop(columns='Approved_Flag')\n",
    "y = df['Approved_Flag']"
   ]
  },
  {
   "cell_type": "code",
   "execution_count": 7,
   "id": "1837fc6f-d074-409f-84bb-19acac1fdc2f",
   "metadata": {},
   "outputs": [],
   "source": [
    "# 4. Define categorical columns\n",
    "onehot_cols = ['MARITALSTATUS', 'GENDER', 'last_prod_enq2', 'first_prod_enq2']\n",
    "ordinal_col = ['EDUCATION']\n",
    "all_cat_cols = onehot_cols + ordinal_col"
   ]
  },
  {
   "cell_type": "code",
   "execution_count": 8,
   "id": "05a1e8da-c6a0-4e5f-8160-8cfa13ca9f9a",
   "metadata": {},
   "outputs": [
    {
     "data": {
      "text/plain": [
       "EDUCATION\n",
       "GRADUATE          16655\n",
       "12TH              14458\n",
       "SSC                9268\n",
       "UNDER GRADUATE     5491\n",
       "OTHERS             2915\n",
       "POST-GRADUATE      2240\n",
       "PROFESSIONAL        269\n",
       "Name: count, dtype: int64"
      ]
     },
     "execution_count": 8,
     "metadata": {},
     "output_type": "execute_result"
    }
   ],
   "source": [
    "df['EDUCATION'].value_counts()"
   ]
  },
  {
   "cell_type": "code",
   "execution_count": 21,
   "id": "af1ccb72-6fb0-4e96-88be-009a2fd51a75",
   "metadata": {},
   "outputs": [],
   "source": [
    "# Order for ordinal encoding\n",
    "education_order = [['SSC', '12TH', 'UNDER GRADUATE', 'GRADUATE', 'POST-GRADUATE', 'PROFESSIONAL', 'OTHERS']]"
   ]
  },
  {
   "cell_type": "code",
   "execution_count": 22,
   "id": "6cc6752c-fddf-4bba-8b78-a437af3c8c8e",
   "metadata": {},
   "outputs": [],
   "source": [
    "# 5. Define numerical columns\n",
    "numerical_cols = [col for col in X.columns if col not in all_cat_cols]"
   ]
  },
  {
   "cell_type": "code",
   "execution_count": 23,
   "id": "5687d5f8-d879-4b9c-93c6-62893be4fcb9",
   "metadata": {},
   "outputs": [],
   "source": [
    "# 6. Preprocessing pipelines\n",
    "onehot_pipeline = Pipeline(steps=[\n",
    "    ('imputer', SimpleImputer(strategy='constant', fill_value='missing')),\n",
    "    ('onehot', OneHotEncoder(handle_unknown='ignore', sparse_output=False, drop='first'))\n",
    "])"
   ]
  },
  {
   "cell_type": "code",
   "execution_count": 24,
   "id": "1be4ee97-a59b-4712-9e70-3d34e4e18c0f",
   "metadata": {},
   "outputs": [],
   "source": [
    "ordinal_pipeline = Pipeline(steps=[\n",
    "    ('imputer', SimpleImputer(strategy='constant', fill_value='missing')),\n",
    "    ('ordinal', OrdinalEncoder(categories=education_order))\n",
    "])"
   ]
  },
  {
   "cell_type": "code",
   "execution_count": 25,
   "id": "0f044dd8-e937-456a-9a3b-d2b9de974421",
   "metadata": {},
   "outputs": [],
   "source": [
    "numerical_pipeline = Pipeline(steps=[\n",
    "    ('imputer', SimpleImputer(strategy='median'))\n",
    "])"
   ]
  },
  {
   "cell_type": "code",
   "execution_count": 26,
   "id": "e8e0b62f-c8b3-4c9f-981b-fc2eca808b59",
   "metadata": {},
   "outputs": [],
   "source": [
    "# Combine all preprocessors\n",
    "preprocessor = ColumnTransformer(\n",
    "    transformers=[\n",
    "        ('onehot', onehot_pipeline, onehot_cols),\n",
    "        ('ordinal', ordinal_pipeline, ordinal_col),\n",
    "        ('num', numerical_pipeline, numerical_cols)\n",
    "    ],\n",
    "    remainder='drop'\n",
    ")"
   ]
  },
  {
   "cell_type": "code",
   "execution_count": 27,
   "id": "ebb95e0d-1470-4f54-ae71-17c4a9247303",
   "metadata": {},
   "outputs": [],
   "source": [
    "# Fit OneHotEncoder to get SMOTENC categorical indices\n",
    "X_onehot_imputed = SimpleImputer(strategy='constant', fill_value='missing').fit_transform(X[onehot_cols])\n",
    "ohe = OneHotEncoder(handle_unknown='ignore', drop='first', sparse_output=False)\n",
    "ohe.fit(X_onehot_imputed)\n",
    "num_ohe_features = sum(len(cats) - 1 for cats in ohe.categories_)\n",
    "categorical_indices = list(range(num_ohe_features)) + [num_ohe_features]"
   ]
  },
  {
   "cell_type": "code",
   "execution_count": 28,
   "id": "4d7ece86-1f6e-48bb-b1c0-3e9c452c7355",
   "metadata": {},
   "outputs": [],
   "source": [
    "# Encode target\n",
    "label_encoder = LabelEncoder()\n",
    "y_encoded = label_encoder.fit_transform(y)"
   ]
  },
  {
   "cell_type": "code",
   "execution_count": 29,
   "id": "08e0d37b-ed8a-4090-893b-6be9d8059c90",
   "metadata": {},
   "outputs": [],
   "source": [
    "# Train-test split\n",
    "X_train, X_test, y_train, y_test = train_test_split(X, y_encoded, stratify=y_encoded, test_size=0.2, random_state=42)"
   ]
  },
  {
   "cell_type": "code",
   "execution_count": 30,
   "id": "c9e12e64-ccfb-40f4-9f9f-92d131e06467",
   "metadata": {},
   "outputs": [],
   "source": [
    "# Define XGBoost model\n",
    "xgb_model = XGBClassifier(\n",
    "    n_estimators=287,\n",
    "    max_depth=4,\n",
    "    learning_rate=0.185,\n",
    "    reg_alpha=0.787,\n",
    "    reg_lambda=0.884,\n",
    "    objective='multi:softprob',\n",
    "    num_class=len(np.unique(y_encoded)),\n",
    "    eval_metric='mlogloss',\n",
    "    random_state=42,\n",
    "    verbosity=0\n",
    ")"
   ]
  },
  {
   "cell_type": "code",
   "execution_count": 31,
   "id": "33617140-5124-4001-9ceb-60419a66245c",
   "metadata": {},
   "outputs": [],
   "source": [
    "# Full pipeline\n",
    "pipeline = ImbPipeline(steps=[\n",
    "    ('preprocessor', preprocessor),\n",
    "    ('smote', SMOTENC(categorical_features=categorical_indices, random_state=42)),\n",
    "    ('selectk', SelectKBest(score_func=mutual_info_classif, k=33)),\n",
    "    ('model', xgb_model)\n",
    "])"
   ]
  },
  {
   "cell_type": "code",
   "execution_count": 32,
   "id": "6bf71567-f6a9-405d-9096-76d23fa8e7c7",
   "metadata": {},
   "outputs": [
    {
     "name": "stdout",
     "output_type": "stream",
     "text": [
      "Stratified CV Accuracy: 0.7561 ± 0.0045\n"
     ]
    }
   ],
   "source": [
    "# Cross-validation\n",
    "skf = StratifiedKFold(n_splits=5, shuffle=True, random_state=42)\n",
    "scores = cross_val_score(pipeline, X, y_encoded, cv=skf, scoring='accuracy')\n",
    "print(f\"Stratified CV Accuracy: {scores.mean():.4f} ± {scores.std():.4f}\")"
   ]
  },
  {
   "cell_type": "code",
   "execution_count": 33,
   "id": "0705591f-cf1a-4a1c-a86e-166b06e96132",
   "metadata": {},
   "outputs": [
    {
     "name": "stdout",
     "output_type": "stream",
     "text": [
      "\n",
      "Test Accuracy: 0.7571150097465887\n",
      "\n",
      "Classification Report:\n",
      "               precision    recall  f1-score   support\n",
      "\n",
      "          P1       0.77      0.80      0.78      1161\n",
      "          P2       0.82      0.90      0.86      6433\n",
      "          P3       0.41      0.20      0.27      1490\n",
      "          P4       0.61      0.64      0.62      1176\n",
      "\n",
      "    accuracy                           0.76     10260\n",
      "   macro avg       0.65      0.63      0.63     10260\n",
      "weighted avg       0.73      0.76      0.74     10260\n",
      "\n"
     ]
    }
   ],
   "source": [
    "# Train final model\n",
    "pipeline.fit(X_train, y_train)\n",
    "y_pred = pipeline.predict(X_test)\n",
    "print(\"\\nTest Accuracy:\", accuracy_score(y_test, y_pred))\n",
    "print(\"\\nClassification Report:\\n\", classification_report(y_test, y_pred, target_names=label_encoder.classes_))"
   ]
  },
  {
   "cell_type": "code",
   "execution_count": 34,
   "id": "90544f5a-37b3-4a3e-b72e-108cb4100bd2",
   "metadata": {},
   "outputs": [
    {
     "data": {
      "text/plain": [
       "['best_pipeline.joblib']"
      ]
     },
     "execution_count": 34,
     "metadata": {},
     "output_type": "execute_result"
    }
   ],
   "source": [
    "# Save model\n",
    "joblib.dump(pipeline, 'best_pipeline.joblib')"
   ]
  },
  {
   "cell_type": "code",
   "execution_count": 35,
   "id": "866e5c94-bbe2-4eb7-ac5c-dc232d2a0a27",
   "metadata": {},
   "outputs": [],
   "source": [
    "# Get selected feature names\n",
    "def get_feature_names(preprocessor):\n",
    "    feature_names = []\n",
    "    for name, transformer, columns in preprocessor.transformers_:\n",
    "        if hasattr(transformer, 'named_steps'):\n",
    "            if 'onehot' in transformer.named_steps:\n",
    "                names = transformer.named_steps['onehot'].get_feature_names_out(columns)\n",
    "            else:\n",
    "                names = columns\n",
    "        else:\n",
    "            names = columns\n",
    "        feature_names.extend(names)\n",
    "    return feature_names\n",
    "\n",
    "selectk = pipeline.named_steps['selectk']\n",
    "selected_mask = selectk.get_support()\n",
    "feature_names = get_feature_names(pipeline.named_steps['preprocessor'])"
   ]
  },
  {
   "cell_type": "code",
   "execution_count": 36,
   "id": "893d90f0-74ea-4c2d-8ab5-7e7ef7cff768",
   "metadata": {},
   "outputs": [],
   "source": [
    "selected_features = [f for f, selected in zip(feature_names, selected_mask) if selected]"
   ]
  },
  {
   "cell_type": "code",
   "execution_count": 37,
   "id": "8a6d8d81-18fe-4c87-ab63-94212abf2e9b",
   "metadata": {},
   "outputs": [
    {
     "name": "stdout",
     "output_type": "stream",
     "text": [
      "\n",
      "Selected Features: ['MARITALSTATUS_Single', 'last_prod_enq2_ConsumerLoan', 'last_prod_enq2_others', 'Total_TL_opened_L6M', 'Tot_TL_closed_L6M', 'pct_tl_closed_L6M', 'pct_closed_tl', 'pct_tl_open_L12M', 'pct_tl_closed_L12M', 'Tot_Missed_Pmnt', 'CC_TL', 'Consumer_TL', 'Gold_TL', 'Home_TL', 'PL_TL', 'Other_TL', 'Age_Oldest_TL', 'Age_Newest_TL', 'time_since_recent_payment', 'num_times_delinquent', 'max_recent_level_of_deliq', 'num_deliq_6_12mts', 'num_std', 'num_std_6mts', 'recent_level_of_deliq', 'time_since_recent_enq', 'Time_With_Curr_Empr', 'pct_opened_TLs_L6m_of_L12m', 'PL_Flag', 'pct_PL_enq_L6m_of_ever', 'pct_CC_enq_L6m_of_ever', 'HL_Flag', 'GL_Flag']\n",
      "\n",
      "Number of Selected Features: 33\n"
     ]
    }
   ],
   "source": [
    "print(\"\\nSelected Features:\", selected_features)\n",
    "print(\"\\nNumber of Selected Features:\", len(selected_features))"
   ]
  },
  {
   "cell_type": "code",
   "execution_count": null,
   "id": "86e63fc0-cdd4-43ba-83fc-4e4b346c419a",
   "metadata": {},
   "outputs": [],
   "source": []
  },
  {
   "cell_type": "code",
   "execution_count": null,
   "id": "282e3ae6-4c6d-4afb-943c-31ebcfbb8f76",
   "metadata": {},
   "outputs": [],
   "source": []
  },
  {
   "cell_type": "code",
   "execution_count": null,
   "id": "309663e7-76e9-4d1f-9945-bc3ec807a037",
   "metadata": {},
   "outputs": [],
   "source": []
  }
 ],
 "metadata": {
  "kernelspec": {
   "display_name": "Python 3 (ipykernel)",
   "language": "python",
   "name": "python3"
  },
  "language_info": {
   "codemirror_mode": {
    "name": "ipython",
    "version": 3
   },
   "file_extension": ".py",
   "mimetype": "text/x-python",
   "name": "python",
   "nbconvert_exporter": "python",
   "pygments_lexer": "ipython3",
   "version": "3.13.2"
  }
 },
 "nbformat": 4,
 "nbformat_minor": 5
}
